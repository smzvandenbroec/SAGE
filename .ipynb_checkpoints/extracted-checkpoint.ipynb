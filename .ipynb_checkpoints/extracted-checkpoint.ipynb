{
 "cells": [
  {
   "cell_type": "code",
   "execution_count": null,
   "metadata": {
    "collapsed": true
   },
   "outputs": [],
   "source": [
    "import networkx as nx\n",
    "import os\n",
    "import seaborn as sns\n",
    "import matplotlib.pyplot as plt\n",
    "import pygraphviz # Needs to be imported for some networkx functions\n",
    "from enum import Enum\n",
    "import math"
   ]
  },
  {
   "cell_type": "code",
   "execution_count": null,
   "metadata": {},
   "outputs": [],
   "source": [
    "def get_compressed_graph(graph):\n",
    "    link_dict = dict()\n",
    "\n",
    "    for node in graph.nodes:\n",
    "        for start, end in graph.out_edges(node):\n",
    "            link_dict[(start,end)] = link_dict.get((start,end), 0) + 1\n",
    "\n",
    "    result = nx.DiGraph()\n",
    "\n",
    "    for k, v in link_dict.items():\n",
    "        result.add_edge(k[0], k[1], weight=v)\n",
    "    root = None\n",
    "    for node in graph.nodes:\n",
    "        if len(graph.out_edges(node)) == 0:\n",
    "            root = node\n",
    "\n",
    "    return result, root"
   ]
  },
  {
   "cell_type": "code",
   "execution_count": null,
   "metadata": {},
   "outputs": [],
   "source": [
    "def combine_and_save_graphs(directory, name):\n",
    "    # Combine graphs\n",
    "    graph = None\n",
    "    for file in os.listdir(directory):\n",
    "        # Read all dot files\n",
    "        if file.endswith(\".dot\"):\n",
    "            graph_2 = nx.nx_pydot.read_dot(directory + \"/\" + file)\n",
    "\n",
    "            # If first graph from directory\n",
    "            if graph is None:\n",
    "                graph = graph_2\n",
    "                # break\n",
    "                continue\n",
    "\n",
    "            # Join graphs\n",
    "            graph = nx.compose(graph, graph_2)\n",
    "\n",
    "    nx.nx_agraph.write_dot(graph, directory + \"/combined/\" + name + \".dot\")\n",
    "    return graph\n",
    "\n",
    "combine_and_save_graphs(\"./2017AGs\", \"combined-2017\")\n",
    "combine_and_save_graphs(\"./2018AGs\", \"combined-2018\")"
   ]
  },
  {
   "cell_type": "code",
   "execution_count": null,
   "metadata": {},
   "outputs": [],
   "source": [
    "# Pagerank on each node\n",
    "pr_dict = nx.pagerank(graph)\n",
    "urgence = dict()\n",
    "\n",
    "max_pr = max(pr_dict.values())\n",
    "\n",
    "for node in graph.nodes:\n",
    "    if \"Victim\" in node:\n",
    "        continue\n",
    "    pr = pr_dict[node]\n",
    "    name = node.split(\"\\n\")[0].replace('\"', \"\")\n",
    "    non_verbose = inverted_mapping[name]\n",
    "    confidentiality = MicroAttackStageConfidentiality.__getitem__(non_verbose).value\n",
    "    availability = MicroAttackStageAvailability.__getitem__(non_verbose).value\n",
    "    integrity = MicroAttackStageIntegrity.__getitem__(non_verbose).value\n",
    "    urgence[node] = pr/max_pr * (confidentiality + integrity + availability)/3\n",
    "\n",
    "arr = sorted(urgence.items(), key= lambda x : -x[1])\n",
    "for i,el in enumerate(arr):\n",
    "    print(i+1,el)"
   ]
  }
 ],
 "metadata": {
  "kernelspec": {
   "display_name": "Python 3",
   "language": "python",
   "name": "python3"
  },
  "language_info": {
   "codemirror_mode": {
    "name": "ipython",
    "version": 3
   },
   "file_extension": ".py",
   "mimetype": "text/x-python",
   "name": "python",
   "nbconvert_exporter": "python",
   "pygments_lexer": "ipython3",
   "version": "3.8.8"
  }
 },
 "nbformat": 4,
 "nbformat_minor": 1
}
